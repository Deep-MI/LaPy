{
 "cells": [
  {
   "cell_type": "markdown",
   "metadata": {},
   "source": [
     "# Example for TriaMesh Geodesics"
   ]
  },
  {
   "cell_type": "code",
   "execution_count": 1,
   "metadata": {},
   "outputs": [],
   "source": [
    "# Load a triangle mesh\n",
    "from lapy import TriaMesh"
   ]
  },
  {
   "cell_type": "code",
   "execution_count": 2,
   "metadata": {},
   "outputs": [
    {
     "name": "stdout",
     "output_type": "stream",
     "text": [
      "--> OFF format         ... \n",
      " --> DONE ( V: 415 , T: 768 )\n",
      "\n"
     ]
    },
    {
     "data": {
      "text/plain": [
       "'TriaMesh'"
      ]
     },
     "execution_count": 2,
     "metadata": {},
     "output_type": "execute_result"
    }
   ],
   "source": [
    "T = TriaMesh.read_off(\"../data/square-mesh.off\")\n",
    "type(T).__name__"
   ]
  },
  {
   "cell_type": "code",
   "execution_count": 3,
   "metadata": {},
   "outputs": [
    {
     "data": {
      "text/html": [
       "        <script type=\"text/javascript\">\n",
       "        window.PlotlyConfig = {MathJaxConfig: 'local'};\n",
       "        if (window.MathJax && window.MathJax.Hub && window.MathJax.Hub.Config) {window.MathJax.Hub.Config({SVG: {font: \"STIX-Web\"}});}\n",
       "        if (typeof require !== 'undefined') {\n",
       "        require.undef(\"plotly\");\n",
       "        requirejs.config({\n",
       "            paths: {\n",
       "                'plotly': ['https://cdn.plot.ly/plotly-2.18.0.min']\n",
       "            }\n",
       "        });\n",
       "        require(['plotly'], function(Plotly) {\n",
       "            window._Plotly = Plotly;\n",
       "        });\n",
       "        }\n",
       "        </script>\n",
       "        "
      ]
     },
     "metadata": {},
     "output_type": "display_data"
    }
   ],
   "source": [
    "# import plotting functions\n",
    "import plotly\n",
    "plotly.offline.init_notebook_mode(connected=True)\n",
    "from lapy.plot import plot_tria_mesh"
   ]
  },
  {
   "cell_type": "code",
   "execution_count": 4,
   "metadata": {},
   "outputs": [],
   "source": [
    "# plot the mesh (here with a triangle function overlay of tria quality)\n",
    "q = T.tria_qualities()\n",
    "# we commented all plot calls, so that the notebook size remains small, uncomment and look at it\n",
    "#plot_tria_mesh(T,plot_edges=True, tfunc=q)"
   ]
  },
  {
   "cell_type": "code",
   "execution_count": 5,
   "metadata": {},
   "outputs": [
    {
     "name": "stdout",
     "output_type": "stream",
     "text": [
      "TriaMesh with regular Laplace-Beltrami\n",
      "Solver: spsolve (LU decomposition) ...\n"
     ]
    }
   ],
   "source": [
    "# compute first eigenfunction\n",
    "from lapy import Solver\n",
    "fem = Solver(T,lump=True)\n",
    "eval, evec = fem.eigs()\n",
    "vfunc = evec[:,1]\n",
    "\n",
    "# also get A,B (lumped), and inverse of B (easy as it is diagonal due to lumping)\n",
    "A, B = fem.stiffness, fem.mass\n",
    "Bi = B.copy()\n",
    "Bi.data **= -1"
   ]
  },
  {
   "cell_type": "code",
   "execution_count": 6,
   "metadata": {},
   "outputs": [
    {
     "data": {
      "text/plain": [
       "1.0"
      ]
     },
     "execution_count": 6,
     "metadata": {},
     "output_type": "execute_result"
    }
   ],
   "source": [
    "# note the mass matrix B can be used as inner product like x B x'. \n",
    "# for a lumped matrix (diagonal) it has contains the vertex areas at the diagonal. \n",
    "# in any case, the sum of all elements is the total mesh area (1 in the case of the unit square)\n",
    "B.sum()"
   ]
  },
  {
   "cell_type": "code",
   "execution_count": 7,
   "metadata": {},
   "outputs": [],
   "source": [
    "# when applying the Laplace to an eigenfunction you get a scaled version of that function \n",
    "#plot_tria_mesh(T,Bi*(A*vfunc),plot_edges=True)"
   ]
  },
  {
   "cell_type": "code",
   "execution_count": 8,
   "metadata": {},
   "outputs": [],
   "source": [
    "# so it is the same as the corresponding eigenvalue times the eigenfunction\n",
    "#plot_tria_mesh(T,eval[1]*vfunc,plot_edges=True)"
   ]
  },
  {
   "cell_type": "code",
   "execution_count": 9,
   "metadata": {},
   "outputs": [],
   "source": [
    "# individually applying first gradient and then - divergence (and inverse of B) gives the same function\n",
    "# inverse of B is used to get back from the integrated divergence to the function \n",
    "from lapy.diffgeo import compute_gradient\n",
    "from lapy.diffgeo import compute_divergence\n",
    "grad = compute_gradient(T,vfunc)\n",
    "divx = -compute_divergence(T,grad)\n",
    "#plot_tria_mesh(T,Bi*divx,plot_edges=True)"
   ]
  },
  {
   "cell_type": "code",
   "execution_count": 10,
   "metadata": {},
   "outputs": [
    {
     "name": "stdout",
     "output_type": "stream",
     "text": [
      "TriaMesh with regular Laplace-Beltrami\n",
      "Matrix Format now:  csc\n",
      "Solver: spsolve (LU decomposition) ...\n"
     ]
    }
   ],
   "source": [
    "# now we compute heat diffusion from boundary vertices with default m\n",
    "from lapy import heat\n",
    "bvert = T.boundary_loops()\n",
    "u = heat.diffusion(T,bvert,m=1)"
   ]
  },
  {
   "cell_type": "code",
   "execution_count": 11,
   "metadata": {},
   "outputs": [],
   "source": [
    "# show some of the level sets (not evenly spaced, steeper close to the boundary)\n",
    "#plot_tria_mesh(T,u,plot_edges=True,plot_levels=True)"
   ]
  },
  {
   "cell_type": "code",
   "execution_count": 12,
   "metadata": {},
   "outputs": [],
   "source": [
    "import numpy as np\n",
    "\n",
    "# compute gradient of heat diffusion\n",
    "tfunc = compute_gradient(T,u)\n",
    "\n",
    "# normalize gradient\n",
    "X = -tfunc / np.sqrt((tfunc**2).sum(1))[:,np.newaxis]\n",
    "X = np.nan_to_num(X)"
   ]
  },
  {
   "cell_type": "code",
   "execution_count": 13,
   "metadata": {},
   "outputs": [],
   "source": [
    "# compute divergence of normalized gradient\n",
    "divx = compute_divergence(T,X)"
   ]
  },
  {
   "cell_type": "code",
   "execution_count": 14,
   "metadata": {},
   "outputs": [
    {
     "name": "stdout",
     "output_type": "stream",
     "text": [
      "TriaMesh with regular Laplace-Beltrami\n",
      "Matrix Format now: csc\n",
      "Solver: cholesky decomp - performance optimal ...\n"
     ]
    }
   ],
   "source": [
    "# compute distance\n",
    "from scipy.sparse.linalg import splu\n",
    "useCholmod = True\n",
    "try:\n",
    "    from sksparse.cholmod import cholesky\n",
    "except ImportError:\n",
    "    useCholmod = False\n",
    "\n",
    "fem = Solver(T,lump=True)\n",
    "A, B = fem.stiffness, fem.mass\n",
    "\n",
    "H=-A\n",
    "b0=divx\n",
    "        \n",
    "# solve H x = b0\n",
    "# we don't need the B matrix here, as divx is the intgrated divergence \n",
    "print(\"Matrix Format now: \"+H.getformat())\n",
    "if useCholmod:\n",
    "    print(\"Solver: cholesky decomp - performance optimal ...\")\n",
    "    chol = cholesky(H)\n",
    "    x = chol(b0)\n",
    "else:\n",
    "    print(\"Solver: spsolve (LU decomp) - performance not optimal ...\")\n",
    "    lu = splu(H)\n",
    "    x = lu.solve(b0)\n",
    "\n",
    "# remove shift\n",
    "x = x-min(x)"
   ]
  },
  {
   "cell_type": "code",
   "execution_count": 15,
   "metadata": {},
   "outputs": [],
   "source": [
    "#plot_tria_mesh(T,x,plot_edges=True,plot_levels=True)"
   ]
  },
  {
   "cell_type": "code",
   "execution_count": 16,
   "metadata": {},
   "outputs": [
    {
     "data": {
      "text/plain": [
       "(0.6049783117351546, 0.7071067811865476)"
      ]
     },
     "execution_count": 16,
     "metadata": {},
     "output_type": "execute_result"
    }
   ],
   "source": [
    "# max distance (smoothed)\n",
    "(max(x), np.sqrt(2)/2)"
   ]
  },
  {
   "cell_type": "code",
   "execution_count": 17,
   "metadata": {},
   "outputs": [
    {
     "name": "stdout",
     "output_type": "stream",
     "text": [
      "Matrix Format now: csc\n",
      "Solver: spsolve (LU decomposition) ...\n"
     ]
    }
   ],
   "source": [
    "# we can also use the standard Poisson solver on B inverse time divx\n",
    "vf = fem.poisson(-Bi*divx)\n",
    "vf = vf - min(vf)\n",
    "#plot_tria_mesh(T,vf,plot_edges=True,plot_levels=True)"
   ]
  },
  {
   "cell_type": "code",
   "execution_count": 18,
   "metadata": {},
   "outputs": [
    {
     "data": {
      "text/plain": [
       "5.30470728232757e-07"
      ]
     },
     "execution_count": 18,
     "metadata": {},
     "output_type": "execute_result"
    }
   ],
   "source": [
    "# should be the same as what we had earlier\n",
    "max(abs(vf-x))"
   ]
  },
  {
   "cell_type": "code",
   "execution_count": 19,
   "metadata": {},
   "outputs": [
    {
     "name": "stdout",
     "output_type": "stream",
     "text": [
      "TriaMesh with regular Laplace-Beltrami\n",
      "Matrix Format now: csc\n",
      "Solver: spsolve (LU decomposition) ...\n"
     ]
    }
   ],
   "source": [
    "# or just call this, which does all the work for us\n",
    "from lapy.diffgeo import compute_geodesic_f\n",
    "gf = compute_geodesic_f(T,u)\n",
    "#plot_tria_mesh(T,gf,plot_edges=True,plot_levels=True)"
   ]
  },
  {
   "cell_type": "code",
   "execution_count": 20,
   "metadata": {},
   "outputs": [
    {
     "data": {
      "text/plain": [
       "3.2569845126451114e-07"
      ]
     },
     "execution_count": 20,
     "metadata": {},
     "output_type": "execute_result"
    }
   ],
   "source": [
    "# again should be the same\n",
    "max(abs(gf-x))"
   ]
  },
  {
   "cell_type": "code",
   "execution_count": 21,
   "metadata": {},
   "outputs": [
    {
     "name": "stdout",
     "output_type": "stream",
     "text": [
      "TriaMesh with regular Laplace-Beltrami\n",
      "Matrix Format now: csc\n",
      "Solver: spsolve (LU decomposition) ...\n"
     ]
    }
   ],
   "source": [
    "# testing if we can rotate the function\n",
    "from lapy.diffgeo import compute_rotated_f\n",
    "gf = compute_rotated_f(T,vf)\n",
    "#plot_tria_mesh(T,gf,plot_edges=True,plot_levels=True)"
   ]
  },
  {
   "cell_type": "code",
   "execution_count": 22,
   "metadata": {},
   "outputs": [],
   "source": [
    "# To demonstrate the mean curvature mapping to a sphere\n",
    "# we need to have a closed mesh\n",
    "from lapy.diffgeo import tria_mean_curvature_flow\n",
    "from lapy.plot import plot_tria_mesh\n",
    "# load your mesh here and uncomment. The mesh should have not too many flat regions (not a cube)\n",
    "#T = TriaIO.import_off(\"../data/???\")\n",
    "#T2 = tria_mean_curvature_flow(T)\n",
    "#plot_tria_mesh(T2,plot_edges=True,plot_levels=True)"
   ]
  }
 ],
 "metadata": {
  "kernelspec": {
   "display_name": "Python3",
   "language": "python",
   "name": "python3"
  },
  "language_info": {
   "codemirror_mode": {
    "name": "ipython",
    "version": 3
   },
   "file_extension": ".py",
   "mimetype": "text/x-python",
   "name": "python",
   "nbconvert_exporter": "python",
   "pygments_lexer": "ipython3",
   "version": "3"
  }
 },
 "nbformat": 4,
 "nbformat_minor": 4
}
