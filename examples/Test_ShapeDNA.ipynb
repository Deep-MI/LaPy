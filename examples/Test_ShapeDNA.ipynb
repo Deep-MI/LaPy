{
 "cells": [
  {
   "cell_type": "code",
   "execution_count": 11,
   "metadata": {},
   "outputs": [],
   "source": [
    "# imports\n",
    "from lapy import TriaMesh, TetMesh\n",
    "from lapy import shape_dna"
   ]
  },
  {
   "cell_type": "code",
   "execution_count": 12,
   "metadata": {},
   "outputs": [
    {
     "name": "stdout",
     "output_type": "stream",
     "text": [
      "--> VTK format         ... \n",
      " --> DONE ( V: 2402 , T: 4800 )\n",
      "\n",
      "--> VTK format         ... \n",
      " --> DONE ( V: 9261 , T: 48000 )\n",
      "\n"
     ]
    }
   ],
   "source": [
    "# load data\n",
    "tria = TriaMesh.read_vtk(\"../data/cubeTria.vtk\")\n",
    "tet = TetMesh.read_vtk(\"../data/cubeTetra.vtk\")"
   ]
  },
  {
   "cell_type": "code",
   "execution_count": 13,
   "metadata": {},
   "outputs": [
    {
     "name": "stdout",
     "output_type": "stream",
     "text": [
      "TriaMesh with regular Laplace-Beltrami\n",
      "Solver: spsolve (LU decomposition) ...\n"
     ]
    },
    {
     "data": {
      "text/plain": [
       "array([-4.0165149e-05,  4.1696410e+00,  4.1704664e+00], dtype=float32)"
      ]
     },
     "execution_count": 13,
     "metadata": {},
     "output_type": "execute_result"
    }
   ],
   "source": [
    "# compute eigenvalues and eigenvectors for tria mesh\n",
    "ev = shape_dna.compute_shapedna(tria, k=3)\n",
    "ev['Eigenvectors']\n",
    "ev['Eigenvalues']"
   ]
  },
  {
   "cell_type": "code",
   "execution_count": 14,
   "metadata": {},
   "outputs": [
    {
     "data": {
      "text/plain": [
       "array([-2.4099089e-04,  2.5017845e+01,  2.5022799e+01], dtype=float32)"
      ]
     },
     "execution_count": 14,
     "metadata": {},
     "output_type": "execute_result"
    }
   ],
   "source": [
    "# volume / surface / geometry normalization of tria eigenvalues\n",
    "shape_dna.normalize_ev(tria, ev[\"Eigenvalues\"], method=\"geometry\")"
   ]
  },
  {
   "cell_type": "code",
   "execution_count": 15,
   "metadata": {},
   "outputs": [
    {
     "data": {
      "text/plain": [
       "array([-4.01651487e-05,  2.08482051e+00,  1.39015547e+00])"
      ]
     },
     "execution_count": 15,
     "metadata": {},
     "output_type": "execute_result"
    }
   ],
   "source": [
    "# linear reweighting of tria eigenvalues\n",
    "shape_dna.reweight_ev(ev[\"Eigenvalues\"])"
   ]
  },
  {
   "cell_type": "code",
   "execution_count": 16,
   "metadata": {},
   "outputs": [
    {
     "data": {
      "text/plain": [
       "0.0"
      ]
     },
     "execution_count": 16,
     "metadata": {},
     "output_type": "execute_result"
    }
   ],
   "source": [
    "# compute distance for tria eigenvalues (trivial case)\n",
    "shape_dna.compute_distance(ev[\"Eigenvalues\"], ev[\"Eigenvalues\"])"
   ]
  },
  {
   "cell_type": "code",
   "execution_count": 17,
   "metadata": {},
   "outputs": [
    {
     "name": "stdout",
     "output_type": "stream",
     "text": [
      "TetMesh with regular Laplace\n",
      "Solver: spsolve (LU decomposition) ...\n"
     ]
    },
    {
     "data": {
      "text/plain": [
       "array([8.4440224e-05, 9.8897915e+00, 9.8898811e+00], dtype=float32)"
      ]
     },
     "execution_count": 17,
     "metadata": {},
     "output_type": "execute_result"
    }
   ],
   "source": [
    "# compute eigenvalues and eigenvectors for tet mesh\n",
    "evTet = shape_dna.compute_shapedna(tet, k=3)\n",
    "evTet['Eigenvectors']\n",
    "evTet['Eigenvalues']"
   ]
  },
  {
   "cell_type": "code",
   "execution_count": 18,
   "metadata": {},
   "outputs": [
    {
     "name": "stdout",
     "output_type": "stream",
     "text": [
      "Found 4800 triangles on boundary.\n",
      "Searched mesh after 79 flooding iterations (0.012834310531616211 sec).\n"
     ]
    },
    {
     "data": {
      "text/plain": [
       "array([8.4440224e-05, 9.8897915e+00, 9.8898811e+00], dtype=float32)"
      ]
     },
     "execution_count": 18,
     "metadata": {},
     "output_type": "execute_result"
    }
   ],
   "source": [
    "# volume / surface / geometry normalization of tet eigenvalues\n",
    "shape_dna.normalize_ev(tet, evTet[\"Eigenvalues\"], method=\"geometry\")"
   ]
  },
  {
   "cell_type": "code",
   "execution_count": 19,
   "metadata": {},
   "outputs": [
    {
     "data": {
      "text/plain": [
       "array([8.44402239e-05, 4.94489574e+00, 3.29662704e+00])"
      ]
     },
     "execution_count": 19,
     "metadata": {},
     "output_type": "execute_result"
    }
   ],
   "source": [
    "# linear reweighting of tet eigenvalues\n",
    "shape_dna.reweight_ev(evTet[\"Eigenvalues\"])"
   ]
  },
  {
   "cell_type": "code",
   "execution_count": 20,
   "metadata": {},
   "outputs": [
    {
     "data": {
      "text/plain": [
       "0.0"
      ]
     },
     "execution_count": 20,
     "metadata": {},
     "output_type": "execute_result"
    }
   ],
   "source": [
    "# compute distance for tria eigenvalues (trivial case)\n",
    "shape_dna.compute_distance(evTet[\"Eigenvalues\"], evTet[\"Eigenvalues\"])"
   ]
  },
  {
   "cell_type": "code",
   "execution_count": null,
   "metadata": {},
   "outputs": [],
   "source": []
  }
 ],
 "metadata": {
  "kernelspec": {
   "display_name": "Python-3.8.10_lapy",
   "language": "python",
   "name": "python-3.8.10_lapy"
  },
  "language_info": {
   "codemirror_mode": {
    "name": "ipython",
    "version": 3
   },
   "file_extension": ".py",
   "mimetype": "text/x-python",
   "name": "python",
   "nbconvert_exporter": "python",
   "pygments_lexer": "ipython3",
   "version": "3.8.10"
  }
 },
 "nbformat": 4,
 "nbformat_minor": 4
}
