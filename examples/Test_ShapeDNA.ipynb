{
 "cells": [
  {
   "cell_type": "code",
   "execution_count": null,
   "metadata": {},
   "outputs": [],
   "source": [
    "# imports\n",
    "from lapy import TriaIO\n",
    "from lapy import TetIO\n",
    "from lapy import ShapeDNA"
   ]
  },
  {
   "cell_type": "code",
   "execution_count": null,
   "metadata": {},
   "outputs": [],
   "source": [
    "# load data\n",
    "tria = TriaIO.import_vtk(\"../data/cubeTria.vtk\")\n",
    "tet = TetIO.import_vtk(\"../data/cubeTetra.vtk\")"
   ]
  },
  {
   "cell_type": "code",
   "execution_count": null,
   "metadata": {},
   "outputs": [],
   "source": [
    "# compute eigenvalues and eigenvectors for tria mesh\n",
    "ev = ShapeDNA.compute_shapedna(tria, k=3)\n",
    "ev['Eigenvectors']\n",
    "ev['Eigenvalues']"
   ]
  },
  {
   "cell_type": "code",
   "execution_count": null,
   "metadata": {},
   "outputs": [],
   "source": [
    "# volume / surface / geometry normalization of tria eigenvalues\n",
    "ShapeDNA.normalize_ev(tria, ev[\"Eigenvalues\"], method=\"geometry\")"
   ]
  },
  {
   "cell_type": "code",
   "execution_count": null,
   "metadata": {},
   "outputs": [],
   "source": [
    "# linear reweighting of tria eigenvalues\n",
    "ShapeDNA.reweight_ev(ev[\"Eigenvalues\"])"
   ]
  },
  {
   "cell_type": "code",
   "execution_count": null,
   "metadata": {},
   "outputs": [],
   "source": [
    "# compute distance for tria eigenvalues (trivial case)\n",
    "ShapeDNA.compute_distance(ev[\"Eigenvalues\"], ev[\"Eigenvalues\"])"
   ]
  },
  {
   "cell_type": "code",
   "execution_count": null,
   "metadata": {},
   "outputs": [],
   "source": [
    "# compute eigenvalues and eigenvectors for tet mesh\n",
    "evTet = ShapeDNA.compute_shapedna(tet, k=3)\n",
    "evTet['Eigenvectors']\n",
    "evTet['Eigenvalues']"
   ]
  },
  {
   "cell_type": "code",
   "execution_count": null,
   "metadata": {},
   "outputs": [],
   "source": [
    "# volume / surface / geometry normalization of tet eigenvalues\n",
    "ShapeDNA.normalize_ev(tet, evTet[\"Eigenvalues\"], method=\"geometry\")"
   ]
  },
  {
   "cell_type": "code",
   "execution_count": null,
   "metadata": {},
   "outputs": [],
   "source": [
    "# linear reweighting of tet eigenvalues\n",
    "ShapeDNA.reweight_ev(evTet[\"Eigenvalues\"])"
   ]
  },
  {
   "cell_type": "code",
   "execution_count": null,
   "metadata": {},
   "outputs": [],
   "source": [
    "# compute distance for tria eigenvalues (trivial case)\n",
    "ShapeDNA.compute_distance(evTet[\"Eigenvalues\"], evTet[\"Eigenvalues\"])"
   ]
  },
  {
   "cell_type": "code",
   "execution_count": null,
   "metadata": {},
   "outputs": [],
   "source": []
  }
 ],
 "metadata": {
  "kernelspec": {
   "display_name": "Python 3",
   "language": "python",
   "name": "python3"
  },
  "language_info": {
   "codemirror_mode": {
    "name": "ipython",
    "version": 3
   },
   "file_extension": ".py",
   "mimetype": "text/x-python",
   "name": "python",
   "nbconvert_exporter": "python",
   "pygments_lexer": "ipython3",
   "version": "3.7.3"
  }
 },
 "nbformat": 4,
 "nbformat_minor": 4
}
